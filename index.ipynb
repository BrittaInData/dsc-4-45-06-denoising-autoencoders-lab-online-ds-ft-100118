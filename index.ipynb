{
 "cells": [
  {
   "cell_type": "markdown",
   "metadata": {},
   "source": [
    "# Denoising Autoencoders - Lab\n",
    "\n",
    "## Introduction\n",
    "\n",
    "In this lab, we will build a simple de-noising autoencoder using a shallow architecture. Following the approach in previously seen in the section, the simple architecture can be replaced by a deep network having multiple layers to learn the intermediate representation. The basic architecture remains the same here , however, the application area changes from data compression to data de-noising. Let's get on with it . \n",
    "\n",
    "## Objectives\n",
    "\n",
    "You will be able to:\n",
    "\n",
    "- Build a simple denoising Autoencoder architecture in Keras\n",
    "- Add random Gaussian Noise to a given images dataset\n",
    "- Predict a clean image from a (previously unseen) noisy image\n"
   ]
  },
  {
   "cell_type": "markdown",
   "metadata": {},
   "source": [
    "## Load necessary libraries\n",
    "\n",
    "We need to first load necessary libraries including numpy and keras for building our DAE model."
   ]
  },
  {
   "cell_type": "code",
   "execution_count": 1,
   "metadata": {},
   "outputs": [
    {
     "name": "stderr",
     "output_type": "stream",
     "text": [
      "Using TensorFlow backend.\n"
     ]
    }
   ],
   "source": [
    "# Import necessary libraries\n",
    "import numpy as np\n",
    "import matplotlib.pyplot as plt\n",
    "import warnings\n",
    "warnings.filterwarnings(\"ignore\")\n",
    "\n",
    "from keras.models import Model\n",
    "from keras.layers import Input, Dense"
   ]
  },
  {
   "cell_type": "markdown",
   "metadata": {},
   "source": [
    "## Load data\n",
    "\n",
    "This experiment can be performed with any small image database, to help us keep our focus on the architecture and the approach. You can try with MNIST, fashion-MNIST, CIFAR10 and CIFAR100 datasets. CIFAR datasets are colored images and carry RGB channels which can possibly increase the training times many folds. You are encouraged to try these and other larger datasets with this code and give it a few hours (maybe overnight) training time to run a bigger experiment. \n",
    "\n",
    "Let's perform following tasks first, similar to our previous labs\n",
    "\n",
    "- Load MNIST/fashion-MNIST dataset in keras (both datasets contain images with similar dimensions). Create train and test datasets\n",
    "- Neural networks only accepts row vectors as an input - Reshape train and test datasets from 2D array to 1D. \n",
    "- Scale the data in range [0,1] to allow us to use sigmoid activation function in output neurons.\n",
    "- Print the shape of resulting datasets"
   ]
  },
  {
   "cell_type": "code",
   "execution_count": 2,
   "metadata": {},
   "outputs": [
    {
     "name": "stdout",
     "output_type": "stream",
     "text": [
      "MNIST\n",
      "\n",
      "60000 training samples.\n",
      "10000 test samples.\n"
     ]
    }
   ],
   "source": [
    "# Load data\n",
    "from keras.datasets import fashion_mnist\n",
    "\n",
    "# input image dimensions\n",
    "img_rows, img_cols = 28, 28                          \n",
    "input_shape = (img_rows * img_cols, )\n",
    "\n",
    "# Shuffle and Split data between train and test sets\n",
    "(x_train, _), (x_test, _) = fashion_mnist.load_data()\n",
    "\n",
    "x_train = x_train.reshape(x_train.shape[0], img_rows * img_cols)\n",
    "x_test  = x_test.reshape(x_test.shape[0], img_rows * img_cols)\n",
    "\n",
    "# Scale the dataset\n",
    "x_train = x_train.astype('float32') / 255\n",
    "x_test  = x_test.astype('float32') / 255\n",
    "\n",
    "print('MNIST\\n')\n",
    "print(x_train.shape[0], 'training samples.')\n",
    "print(x_test.shape[0], 'test samples.')"
   ]
  },
  {
   "cell_type": "markdown",
   "metadata": {},
   "source": [
    "## Create a \"Noisy\" Dataset\n",
    "\n",
    "Here we will introduce random Gaussian noise to the test and train data. The noiy dataset can be generated using following general formula, which will a add noise with mean 0 and standard deviation=1 :\n",
    "\n",
    "$$NoisyDataset~=~OriginalDataset~+~NoiseFactor~*~np.random.normal(loc=0.0, scale=1.0, size=OriginalDataset.shape)$$\n",
    "\n",
    "- Use a noise factor of 0.5\n",
    "- Create a set of noise test and train datasets from original datasets using formula given above\n",
    "- Use `np.clip()` to restrict the values between 0 and 1. \n",
    "\n",
    "\n",
    "> __numpy.clip(a, a_min, a_max, out=None)__ clips (limit) the values in an array.\n",
    "\n",
    "*Given an interval, values outside the interval are clipped to the interval edges. For example, if an interval of [0, 1] is specified, values smaller than 0 become 0, and values larger than 1 become 1.*\n"
   ]
  },
  {
   "cell_type": "code",
   "execution_count": 3,
   "metadata": {},
   "outputs": [],
   "source": [
    "# Create noisy train and test datasets\n",
    "noise_factor  = 0.5\n",
    "x_train_noisy = x_train + noise_factor * np.random.normal(loc=0.0, scale=1.0, size=x_train.shape)\n",
    "x_test_noisy  = x_test + noise_factor * np.random.normal(loc=0.0, scale=1.0, size=x_test.shape)\n",
    "\n",
    "# Clip the datasets to ensure data integrity\n",
    "x_train_noisy = np.clip(a=x_train_noisy, a_min=0., a_max=1.)\n",
    "x_test_noisy  = np.clip(a=x_test_noisy,  a_min=0., a_max=1.)"
   ]
  },
  {
   "cell_type": "markdown",
   "metadata": {},
   "source": [
    "## Build the DAE\n",
    "\n",
    "- Build the encoder model for creating a hidden representation of length 32 from input vector of length 784. \n",
    "- Use RELU activation for the encoder model\n",
    "- Build the decoder model with signmoid activation \n",
    "- Show model summary"
   ]
  },
  {
   "cell_type": "code",
   "execution_count": 4,
   "metadata": {},
   "outputs": [
    {
     "name": "stdout",
     "output_type": "stream",
     "text": [
      "_________________________________________________________________\n",
      "Layer (type)                 Output Shape              Param #   \n",
      "=================================================================\n",
      "inputs (InputLayer)          (None, 784)               0         \n",
      "_________________________________________________________________\n",
      "dense_1 (Dense)              (None, 32)                25120     \n",
      "_________________________________________________________________\n",
      "dense_2 (Dense)              (None, 784)               25872     \n",
      "=================================================================\n",
      "Total params: 50,992\n",
      "Trainable params: 50,992\n",
      "Non-trainable params: 0\n",
      "_________________________________________________________________\n"
     ]
    }
   ],
   "source": [
    "# Input dimensions\n",
    "input_dim = Input(name='inputs', shape=input_shape, dtype='float32')\n",
    "    \n",
    "# Encoder model \n",
    "encoder = Dense(32, activation='relu')(input_dim)\n",
    "    \n",
    "# Decoder model \n",
    "decoder = Dense(input_shape[0], activation='sigmoid')(encoder)\n",
    "    \n",
    "# Print network summary\n",
    "DAE = Model(inputs=input_dim, outputs=decoder)\n",
    "DAE.summary()"
   ]
  },
  {
   "cell_type": "markdown",
   "metadata": {},
   "source": [
    "## Compile and Predict \n",
    "\n",
    "- Use batch size = 128 and 30 epochs for training (increase epochs for better results)\n",
    "- Use adam optimizer and binary cross entropy as the loss measure to compile DAE model\n",
    "- Fit DAE with noisy dataset as the input and original dataset as the output. We are trying to teach the network to learn how a clean version compares to the noisy version of data - for all images. \n",
    "- Set `shuffle=True` for shuffling batches of data. \n",
    "- Make predictions with the noise test dataset"
   ]
  },
  {
   "cell_type": "code",
   "execution_count": 5,
   "metadata": {},
   "outputs": [
    {
     "name": "stdout",
     "output_type": "stream",
     "text": [
      "Train on 60000 samples, validate on 10000 samples\n",
      "Epoch 1/30\n",
      "60000/60000 [==============================] - 19s 325us/step - loss: 0.3962 - val_loss: 0.3429\n",
      "Epoch 2/30\n",
      "60000/60000 [==============================] - 17s 291us/step - loss: 0.3321 - val_loss: 0.3288\n",
      "Epoch 3/30\n",
      "60000/60000 [==============================] - 17s 281us/step - loss: 0.3225 - val_loss: 0.3221\n",
      "Epoch 4/30\n",
      "60000/60000 [==============================] - 18s 298us/step - loss: 0.3173 - val_loss: 0.3183\n",
      "Epoch 5/30\n",
      "60000/60000 [==============================] - 18s 304us/step - loss: 0.3137 - val_loss: 0.3151\n",
      "Epoch 6/30\n",
      "60000/60000 [==============================] - 18s 296us/step - loss: 0.3111 - val_loss: 0.3125\n",
      "Epoch 7/30\n",
      "60000/60000 [==============================] - 17s 284us/step - loss: 0.3091 - val_loss: 0.3111\n",
      "Epoch 8/30\n",
      "60000/60000 [==============================] - 21s 342us/step - loss: 0.3077 - val_loss: 0.3095\n",
      "Epoch 9/30\n",
      "60000/60000 [==============================] - 20s 334us/step - loss: 0.3064 - val_loss: 0.3086\n",
      "Epoch 10/30\n",
      "60000/60000 [==============================] - 21s 351us/step - loss: 0.3057 - val_loss: 0.3080\n",
      "Epoch 11/30\n",
      "60000/60000 [==============================] - 20s 332us/step - loss: 0.3052 - val_loss: 0.3077\n",
      "Epoch 12/30\n",
      "60000/60000 [==============================] - 17s 281us/step - loss: 0.3047 - val_loss: 0.3071\n",
      "Epoch 13/30\n",
      "60000/60000 [==============================] - 17s 285us/step - loss: 0.3041 - val_loss: 0.3068\n",
      "Epoch 14/30\n",
      "60000/60000 [==============================] - 18s 301us/step - loss: 0.3036 - val_loss: 0.3063\n",
      "Epoch 15/30\n",
      "60000/60000 [==============================] - 17s 285us/step - loss: 0.3033 - val_loss: 0.3060\n",
      "Epoch 16/30\n",
      "60000/60000 [==============================] - 17s 279us/step - loss: 0.3030 - val_loss: 0.3059\n",
      "Epoch 17/30\n",
      "60000/60000 [==============================] - 17s 283us/step - loss: 0.3028 - val_loss: 0.3056\n",
      "Epoch 18/30\n",
      "60000/60000 [==============================] - 17s 279us/step - loss: 0.3027 - val_loss: 0.3063\n",
      "Epoch 19/30\n",
      "60000/60000 [==============================] - 17s 282us/step - loss: 0.3026 - val_loss: 0.3060\n",
      "Epoch 20/30\n",
      "60000/60000 [==============================] - 17s 287us/step - loss: 0.3025 - val_loss: 0.3055\n",
      "Epoch 21/30\n",
      "60000/60000 [==============================] - 17s 285us/step - loss: 0.3024 - val_loss: 0.3053\n",
      "Epoch 22/30\n",
      "60000/60000 [==============================] - 17s 288us/step - loss: 0.3023 - val_loss: 0.3053\n",
      "Epoch 23/30\n",
      "60000/60000 [==============================] - 17s 284us/step - loss: 0.3023 - val_loss: 0.3053\n",
      "Epoch 24/30\n",
      "60000/60000 [==============================] - 17s 289us/step - loss: 0.3022 - val_loss: 0.3053\n",
      "Epoch 25/30\n",
      "60000/60000 [==============================] - 17s 285us/step - loss: 0.3021 - val_loss: 0.3054\n",
      "Epoch 26/30\n",
      "60000/60000 [==============================] - 16s 259us/step - loss: 0.3021 - val_loss: 0.3053\n",
      "Epoch 27/30\n",
      "60000/60000 [==============================] - 15s 253us/step - loss: 0.3020 - val_loss: 0.3052\n",
      "Epoch 28/30\n",
      "60000/60000 [==============================] - 15s 254us/step - loss: 0.3020 - val_loss: 0.3050\n",
      "Epoch 29/30\n",
      "60000/60000 [==============================] - 16s 266us/step - loss: 0.3019 - val_loss: 0.3051\n",
      "Epoch 30/30\n",
      "60000/60000 [==============================] - 17s 283us/step - loss: 0.3019 - val_loss: 0.3051\n"
     ]
    }
   ],
   "source": [
    "# Compile the model with given parameters\n",
    "DAE.compile(optimizer='adam', loss='binary_crossentropy')\n",
    "\n",
    "# Fit the data \n",
    "DAE.fit(x_train_noisy, x_train, epochs=30, batch_size=128,\n",
    "        shuffle=True, validation_data=(x_test_noisy, x_test))\n",
    "\n",
    "# Predict images\n",
    "decoded_imgs = DAE.predict(x_test_noisy)"
   ]
  },
  {
   "cell_type": "markdown",
   "metadata": {},
   "source": [
    "## View the results \n",
    "\n",
    "- Show the first ten images from the clean dataset.  \n",
    "- Show the images with added noise and images predicted by the DAE. "
   ]
  },
  {
   "cell_type": "code",
   "execution_count": 6,
   "metadata": {},
   "outputs": [
    {
     "data": {
      "image/png": "[encoded data removed]",
      "text/plain": [
       "<Figure size 1440x288 with 10 Axes>"
      ]
     },
     "metadata": {
      "needs_background": "light"
     },
     "output_type": "display_data"
    }
   ],
   "source": [
    "# Show the first ten images from the clean dataset\n",
    "\n",
    "n = 10\n",
    "plt.figure(figsize=(20, 4))\n",
    "for i in range(1, n+1):\n",
    "    ax = plt.subplot(2, n, i)\n",
    "    plt.imshow(x_test[i].reshape(28, 28))\n",
    "    plt.gray()\n",
    "    ax.get_xaxis().set_visible(False)\n",
    "    ax.get_yaxis().set_visible(False)"
   ]
  },
  {
   "cell_type": "code",
   "execution_count": 7,
   "metadata": {},
   "outputs": [
    {
     "data": {
      "image/png": "[encoded data removed]",
      "text/plain": [
       "<Figure size 1440x288 with 20 Axes>"
      ]
     },
     "metadata": {
      "needs_background": "light"
     },
     "output_type": "display_data"
    }
   ],
   "source": [
    "# Show the images with added noise and images predicted by the DAE\n",
    "\n",
    "n = 10\n",
    "plt.figure(figsize=(20, 4))\n",
    "for i in range(1,n+1):\n",
    "\n",
    "    # display noisy dataset\n",
    "    ax = plt.subplot(2, n, i)\n",
    "    plt.imshow(x_test_noisy[i].reshape(28, 28))\n",
    "    plt.gray()\n",
    "    ax.get_xaxis().set_visible(False)\n",
    "    ax.get_yaxis().set_visible(False)\n",
    "\n",
    "    # display reconstruction\n",
    "    ax = plt.subplot(2, n, i + n)\n",
    "    plt.imshow(decoded_imgs[i].reshape(28, 28))\n",
    "    plt.gray()\n",
    "    ax.get_xaxis().set_visible(False)\n",
    "    ax.get_yaxis().set_visible(False)\n",
    "    \n",
    "plt.show()"
   ]
  },
  {
   "cell_type": "markdown",
   "metadata": {},
   "source": [
    "Here we can see that the our model is actually performing very well. We do see some poor predictions above due to highly reduced dimensionality and high noise we have introduced in our dataset. We can further inspect the performance by checking the training and validation loss above. As always , a key takeaway here is the number of training examples and training time have a huge impact on the performance of a deep architecture. "
   ]
  },
  {
   "cell_type": "markdown",
   "metadata": {},
   "source": [
    "## Level up - Optional\n",
    "\n",
    "- Increase the size of encoded representation / decrease the amount of noise to see if the performance improves. \n",
    "- See how training epochs effect the performance\n",
    "- Import the faces dataset that we saw with PCA dimensionality reduction lab from scikit-learn, and repeat the above experiment. \n",
    "- Look for other interesting datasets/create your own noise datasets and train the network.\n",
    "- Create a DEEP denoising autoencoder by modifying the code above. "
   ]
  },
  {
   "cell_type": "markdown",
   "metadata": {},
   "source": [
    "## Summary \n",
    "\n",
    "In this lab we looked at building a simple denoising autoencoder. We created noisy datasets by adding random Gaussian noise to the fashion MNIST dataset in keras. Our results show that the network is able to identify the shapes very well , but due to using a hugely oversimplified architecture , the accuracy remains questionable. Next we'll see how we can use convolutional network approach to simplify the task of image reconstruction."
   ]
  }
 ],
 "metadata": {
  "kernelspec": {
   "display_name": "Python 3",
   "language": "python",
   "name": "python3"
  },
  "language_info": {
   "codemirror_mode": {
    "name": "ipython",
    "version": 3
   },
   "file_extension": ".py",
   "mimetype": "text/x-python",
   "name": "python",
   "nbconvert_exporter": "python",
   "pygments_lexer": "ipython3",
   "version": "3.6.8"
  }
 },
 "nbformat": 4,
 "nbformat_minor": 2
}
